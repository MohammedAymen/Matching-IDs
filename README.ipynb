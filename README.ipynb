You should to install the file ara_number_id.traineddata in your tesseract folder

step1: take the file and open the folder of your tesseract in your pc

step2: open tessdata

step3: paste the file in it
