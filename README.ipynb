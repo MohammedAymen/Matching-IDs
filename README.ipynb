{
 "cells": [
  {
   "cell_type": "markdown",
   "metadata": {},
   "source": [
    "You should to install the file ara_number_id.traineddata in your tesseract folder \n",
    "\n",
    "step1:\n",
    "take the file and open the folder of your tesseract in your pc "
   ]
  },
  {
   "cell_type": "markdown",
   "metadata": {},
   "source": [
    "step2: \n",
    "open tessdata\n",
    "\n",
    "step3:\n",
    "paste the file in it \n",
    "\n"
   ]
  }
 ],
 "metadata": {
  "language_info": {
   "name": "python"
  }
 },
 "nbformat": 4,
 "nbformat_minor": 2
}
